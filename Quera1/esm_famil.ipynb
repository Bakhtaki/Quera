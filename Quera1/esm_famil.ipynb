{
 "cells": [
  {
   "cell_type": "code",
   "execution_count": null,
   "metadata": {},
   "outputs": [],
   "source": [
    "import csv\n",
    "import os"
   ]
  },
  {
   "cell_type": "code",
   "execution_count": null,
   "metadata": {},
   "outputs": [],
   "source": [
    "sections = ['esm','famil','keshvar','rang','ashia','ghaza']\n",
    "\n",
    "scores= {}\n",
    "score = 0\n",
    "all_words = {}\n",
    "for section in sections:\n",
    "    all_words[section]= []\n",
    "    \n",
    "participants =[]\n",
    "\n"
   ]
  },
  {
   "cell_type": "code",
   "execution_count": null,
   "metadata": {},
   "outputs": [],
   "source": [
    "def normalize(s):\n",
    "    if not s:\n",
    "        return ''\n",
    "    return(s.replace(' ',''))"
   ]
  },
  {
   "cell_type": "code",
   "execution_count": null,
   "metadata": {},
   "outputs": [],
   "source": [
    "def ready_up():\n",
    "    data = open('/home/hamid/Downloads/esm_famil_data.csv')\n",
    "    reader = csv.reader(data)\n",
    "    next(reader)\n",
    "    for row in reader:\n",
    "        all_words['esm'].append(normalize(row[0]))\n",
    "        all_words['famil'].append(normalize(row[1]))\n",
    "        all_words['keshvar'].append(normalize(row[2]))\n",
    "        all_words['rang'].append(normalize(row[3]))\n",
    "        all_words['ashia'].append(normalize(row[4]))\n",
    "        all_words['ghaza'].append(normalize(row[5]))\n",
    "ready_up()    "
   ]
  },
  {
   "cell_type": "code",
   "execution_count": null,
   "metadata": {},
   "outputs": [],
   "source": [
    "def add_participant(participant,answers):\n",
    "    for section in sections:\n",
    "        if normalize(answers[section]) not in all_words[section]:\n",
    "            answers[section] =''\n",
    "        else:\n",
    "            answers[section]= normalize(answers[section])\n",
    "    participants.append({'name':participant,'answers':answers})\n",
    "    \n",
    "add_participant(participant = 'salib', answers = {'esm': 'بردیا', 'famil': 'بابایی', 'keshvar': 'باربادوس', 'rang': 'بنفش', 'ashia': 'بمب', 'ghaza': 'باقالیپلو'})\n",
    "add_participant(participant = 'kianoush', answers = {'esm': 'بهرام', 'famil': 'بهرامی', 'keshvar': 'برزیل', 'rang': 'بلوطی', 'ashia': 'بیل', 'ghaza': 'به   پلو'})\n",
    "add_participant(participant = 'sajjad', answers = {'esm': 'بابک', 'famil': 'بهشتی', 'keshvar': 'باهاما', 'rang': 'بژ', 'ashia': '        ', 'ghaza': 'برنج خورشت'})\n",
    "add_participant(participant = 'farhad', answers = {'esm': 'بهرام', 'famil': 'براتی', 'keshvar': 'بببببب', 'rang': 'بژ', 'ashia': 'بیل', 'ghaza': 'باقلوا'})\n",
    "\n",
    "participants"
   ]
  },
  {
   "cell_type": "code",
   "execution_count": 79,
   "metadata": {},
   "outputs": [
    {
     "name": "stdout",
     "output_type": "stream",
     "text": [
      "salib بردیا 10 esm True False\n",
      "salib esm 10\n",
      "salib بابایی 20 famil True False\n",
      "salib famil 20\n",
      "salib باربادوس 35 keshvar False False\n",
      "salib keshvar 35\n",
      "salib بنفش 45 rang True False\n",
      "salib rang 45\n",
      "salib بمب 55 ashia True False\n",
      "salib ashia 55\n",
      "salib باقالیپلو 65 ghaza True False\n",
      "salib ghaza 65\n",
      "kianoush بهرام 5 esm True True\n",
      "kianoush esm 5\n",
      "kianoush بهرامی 15 famil True False\n",
      "kianoush famil 15\n",
      "kianoush برزیل 30 keshvar False False\n",
      "kianoush keshvar 30\n",
      "kianoush بلوطی 40 rang True False\n",
      "kianoush rang 40\n",
      "kianoush بیل 45 ashia True True\n",
      "kianoush ashia 45\n",
      "kianoush بهپلو 55 ghaza True False\n",
      "kianoush ghaza 55\n",
      "sajjad بابک 10 esm True False\n",
      "sajjad esm 10\n",
      "sajjad بهشتی 20 famil True False\n",
      "sajjad famil 20\n",
      "sajjad باهاما 35 keshvar False False\n",
      "sajjad keshvar 35\n",
      "sajjad بژ 40 rang True True\n",
      "sajjad rang 40\n",
      "sajjad ashia 40\n",
      "sajjad برنجخورشت 50 ghaza True False\n",
      "sajjad ghaza 50\n",
      "farhad بهرام 10 esm True False\n",
      "farhad esm 10\n",
      "farhad براتی 20 famil True False\n",
      "farhad famil 20\n",
      "farhad keshvar 20\n",
      "farhad بژ 25 rang True True\n",
      "farhad rang 25\n",
      "farhad بیل 40 ashia False False\n",
      "farhad ashia 40\n",
      "farhad باقلوا 50 ghaza True False\n",
      "farhad ghaza 50\n"
     ]
    },
    {
     "data": {
      "text/plain": [
       "{'salib': 65, 'kianoush': 55, 'sajjad': 50, 'farhad': 50}"
      ]
     },
     "execution_count": 79,
     "metadata": {},
     "output_type": "execute_result"
    }
   ],
   "source": [
    "def calculate_all():\n",
    "    score = 0\n",
    "    for participant in participants:  #Salib\n",
    "        current_player = participant['name']\n",
    "        current_answers = participant['answers']\n",
    "        score = 0\n",
    "        scores[current_player] = 0\n",
    "#         print(current_player,current_answers)\n",
    "        for  section in sections : \n",
    "            player_this_section_answer = current_answers[section]\n",
    "#             print(current_player,section,player_this_section_answer)\n",
    "            if player_this_section_answer =='':\n",
    "                score += 0\n",
    "            else:\n",
    "                for other in participants:\n",
    "                    if other['name'] == current_player:\n",
    "                        continue\n",
    "                    else:\n",
    "                        duplicate = False\n",
    "                        all_answered = True\n",
    "                        if normalize(player_this_section_answer) == normalize(other['answers'][section]):\n",
    "                            duplicate =True\n",
    "                        if normalize(other['answers'][section]) == '':\n",
    "                            all_answered =False\n",
    "                if all_answered and duplicate:\n",
    "                    score += 5\n",
    "                    print(current_player,player_this_section_answer,score,section,all_answered,duplicate)\n",
    "                if all_answered and not duplicate:\n",
    "                    score +=10\n",
    "                    print(current_player,player_this_section_answer,score,section,all_answered,duplicate)\n",
    "                if not all_answered and duplicate:\n",
    "                    score +=10\n",
    "                    print(current_player,player_this_section_answer,score,section,all_answered,duplicate)\n",
    "                if not all_answered and not  duplicate:\n",
    "                    score +=15\n",
    "                    print(current_player,player_this_section_answer,score,section,all_answered,duplicate)\n",
    "            print(current_player,section,score)\n",
    "            scores[current_player] = score       \n",
    "                        \n",
    "\n",
    "        \n",
    "        \n",
    "\n",
    "        \n",
    "calculate_all()\n",
    "scores\n",
    "             "
   ]
  },
  {
   "cell_type": "code",
   "execution_count": null,
   "metadata": {},
   "outputs": [],
   "source": []
  }
 ],
 "metadata": {
  "kernelspec": {
   "display_name": "Python 3",
   "language": "python",
   "name": "python3"
  },
  "language_info": {
   "codemirror_mode": {
    "name": "ipython",
    "version": 3
   },
   "file_extension": ".py",
   "mimetype": "text/x-python",
   "name": "python",
   "nbconvert_exporter": "python",
   "pygments_lexer": "ipython3",
   "version": "3.8.5"
  }
 },
 "nbformat": 4,
 "nbformat_minor": 4
}
