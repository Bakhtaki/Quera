{
 "cells": [
  {
   "cell_type": "code",
   "execution_count": null,
   "metadata": {},
   "outputs": [],
   "source": [
    "import csv\n",
    "import pandas as pd"
   ]
  },
  {
   "cell_type": "code",
   "execution_count": null,
   "metadata": {},
   "outputs": [],
   "source": [
    "esm = []\n",
    "famil =[]\n",
    "keshvar=[]\n",
    "rang=[]\n",
    "ashia =[]\n",
    "ghaza=[]\n",
    "all_words =[]\n",
    "participants =[]\n",
    "scores = {}"
   ]
  },
  {
   "cell_type": "code",
   "execution_count": 157,
   "metadata": {},
   "outputs": [],
   "source": [
    "def normalize(s):\n",
    "    return(s.replace(' ',''))"
   ]
  },
  {
   "cell_type": "code",
   "execution_count": null,
   "metadata": {},
   "outputs": [],
   "source": [
    "def ready_up():\n",
    "    data = pd.read_csv('/Users/Apple/Downloads/esm_famil_data.csv')\n",
    "    esm.append(data['esm'])\n",
    "    famil.append(data['famil'])\n",
    "    keshvar.append(data['keshvar'])\n",
    "    rang.append(data['rang'])\n",
    "    ashia.append(data['ashia'])\n",
    "    ghaza.append(data['ghaza'])\n",
    "    all_words.append(data)"
   ]
  },
  {
   "cell_type": "code",
   "execution_count": null,
   "metadata": {},
   "outputs": [],
   "source": [
    "def add_participant(participant,answers):\n",
    "    participants.append({'participant':participant,'answers' : answers})\n",
    "    "
   ]
  },
  {
   "cell_type": "code",
   "execution_count": null,
   "metadata": {},
   "outputs": [],
   "source": [
    "def calculate_all():\n",
    "    sections = ['esm','famil','keshvar','rang','ashia','ghaza']\n",
    "    for participant in participants:\n",
    "        this_name = participant['participant']\n",
    "        this_answer = participant['answers']\n",
    "        scores[this_name] = 0\n",
    "        for section in sections:\n",
    "            score = 0\n",
    "            print(this_name,this_answer[section],scores[this_name])\n",
    "            for other in participants:\n",
    "                if this_name == other['participant']:\n",
    "                    continue\n",
    "                else:\n",
    "                    duplicate = False\n",
    "                    all_anserwed = True\n",
    "                    print(other['participant'],other['answers'][section])\n",
    "                    \n",
    "             "
   ]
  },
  {
   "cell_type": "code",
   "execution_count": null,
   "metadata": {},
   "outputs": [],
   "source": [
    "ready_up()"
   ]
  },
  {
   "cell_type": "code",
   "execution_count": null,
   "metadata": {},
   "outputs": [],
   "source": [
    "add_participant(participant = 'salib', answers = {'esm': 'بردیا', 'famil': 'بابایی', 'keshvar': 'باربادوس', 'rang': 'بنفش', 'ashia': 'بمب', 'ghaza': 'باقالیپلو'})\n",
    "add_participant(participant = 'kianoush', answers = {'esm': 'بهرام', 'famil': 'بهرامی', 'keshvar': 'برزیل', 'rang': 'بلوطی', 'ashia': 'بیل', 'ghaza': 'به   پلو'})\n",
    "add_participant(participant = 'sajjad', answers = {'esm': 'بابک', 'famil': 'بهشتی', 'keshvar': 'باهاما', 'rang': 'بژ', 'ashia': '        ', 'ghaza': 'برنج خورشت'})\n",
    "add_participant(participant = 'farhad', answers = {'esm': 'بهرام', 'famil': 'براتی', 'keshvar': 'بببببب', 'rang': 'بژ', 'ashia': 'بیل', 'ghaza': 'باقلوا'})\n"
   ]
  },
  {
   "cell_type": "code",
   "execution_count": null,
   "metadata": {},
   "outputs": [],
   "source": [
    "calculate_all()"
   ]
  },
  {
   "cell_type": "code",
   "execution_count": null,
   "metadata": {},
   "outputs": [],
   "source": []
  }
 ],
 "metadata": {
  "kernelspec": {
   "display_name": "Python 3",
   "language": "python",
   "name": "python3"
  },
  "language_info": {
   "codemirror_mode": {
    "name": "ipython",
    "version": 3
   },
   "file_extension": ".py",
   "mimetype": "text/x-python",
   "name": "python",
   "nbconvert_exporter": "python",
   "pygments_lexer": "ipython3",
   "version": "3.8.3"
  }
 },
 "nbformat": 4,
 "nbformat_minor": 4
}
